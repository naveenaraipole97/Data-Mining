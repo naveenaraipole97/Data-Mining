{
 "cells": [
  {
   "cell_type": "code",
   "execution_count": 1,
   "metadata": {
    "_cell_guid": "b1076dfc-b9ad-4769-8c92-a6c4dae69d19",
    "_uuid": "8f2839f25d086af736a60e9eeb907d3b93b6e0e5",
    "execution": {
     "iopub.execute_input": "2023-11-18T21:38:59.394628Z",
     "iopub.status.busy": "2023-11-18T21:38:59.394248Z",
     "iopub.status.idle": "2023-11-18T21:38:59.405167Z",
     "shell.execute_reply": "2023-11-18T21:38:59.403466Z",
     "shell.execute_reply.started": "2023-11-18T21:38:59.394598Z"
    }
   },
   "outputs": [],
   "source": [
    "# This Python 3 environment comes with many helpful analytics libraries installed\n",
    "# It is defined by the kaggle/python Docker image: https://github.com/kaggle/docker-python\n",
    "# For example, here's several helpful packages to load\n",
    "\n",
    "import numpy as np # linear algebra\n",
    "import pandas as pd # data processing, CSV file I/O (e.g. pd.read_csv)\n",
    "\n",
    "# Input data files are available in the read-only \"../input/\" directory\n",
    "# For example, running this (by clicking run or pressing Shift+Enter) will list all files under the input directory\n",
    "\n",
    "import os\n",
    "for dirname, _, filenames in os.walk('/kaggle/input'):\n",
    "    for filename in filenames:\n",
    "        print(os.path.join(dirname, filename))\n",
    "\n",
    "# You can write up to 20GB to the current directory (/kaggle/working/) that gets preserved as output when you create a version using \"Save & Run All\" \n",
    "# You can also write temporary files to /kaggle/temp/, but they won't be saved outside of the current session"
   ]
  },
  {
   "cell_type": "code",
   "execution_count": 2,
   "metadata": {
    "execution": {
     "iopub.execute_input": "2023-11-18T21:38:59.408480Z",
     "iopub.status.busy": "2023-11-18T21:38:59.407868Z",
     "iopub.status.idle": "2023-11-18T21:38:59.423312Z",
     "shell.execute_reply": "2023-11-18T21:38:59.421494Z",
     "shell.execute_reply.started": "2023-11-18T21:38:59.408448Z"
    }
   },
   "outputs": [],
   "source": [
    "from surprise import Dataset\n",
    "from surprise import Reader\n",
    "from surprise import accuracy\n",
    "from surprise.model_selection import cross_validate\n",
    "from surprise.model_selection import train_test_split\n",
    "from surprise import SVD"
   ]
  },
  {
   "cell_type": "code",
   "execution_count": 3,
   "metadata": {
    "execution": {
     "iopub.execute_input": "2023-11-18T21:38:59.425520Z",
     "iopub.status.busy": "2023-11-18T21:38:59.425018Z",
     "iopub.status.idle": "2023-11-18T21:38:59.464103Z",
     "shell.execute_reply": "2023-11-18T21:38:59.462788Z",
     "shell.execute_reply.started": "2023-11-18T21:38:59.425481Z"
    }
   },
   "outputs": [],
   "source": [
    "ratings=pd.read_csv('ratings_small.csv')"
   ]
  },
  {
   "cell_type": "code",
   "execution_count": 4,
   "metadata": {
    "execution": {
     "iopub.execute_input": "2023-11-18T21:38:59.467235Z",
     "iopub.status.busy": "2023-11-18T21:38:59.466909Z",
     "iopub.status.idle": "2023-11-18T21:38:59.478175Z",
     "shell.execute_reply": "2023-11-18T21:38:59.476450Z",
     "shell.execute_reply.started": "2023-11-18T21:38:59.467210Z"
    }
   },
   "outputs": [
    {
     "data": {
      "text/html": [
       "<div>\n",
       "<style scoped>\n",
       "    .dataframe tbody tr th:only-of-type {\n",
       "        vertical-align: middle;\n",
       "    }\n",
       "\n",
       "    .dataframe tbody tr th {\n",
       "        vertical-align: top;\n",
       "    }\n",
       "\n",
       "    .dataframe thead th {\n",
       "        text-align: right;\n",
       "    }\n",
       "</style>\n",
       "<table border=\"1\" class=\"dataframe\">\n",
       "  <thead>\n",
       "    <tr style=\"text-align: right;\">\n",
       "      <th></th>\n",
       "      <th>userId</th>\n",
       "      <th>movieId</th>\n",
       "      <th>rating</th>\n",
       "      <th>timestamp</th>\n",
       "    </tr>\n",
       "  </thead>\n",
       "  <tbody>\n",
       "    <tr>\n",
       "      <th>0</th>\n",
       "      <td>1</td>\n",
       "      <td>31</td>\n",
       "      <td>2.5</td>\n",
       "      <td>1260759144</td>\n",
       "    </tr>\n",
       "    <tr>\n",
       "      <th>1</th>\n",
       "      <td>1</td>\n",
       "      <td>1029</td>\n",
       "      <td>3.0</td>\n",
       "      <td>1260759179</td>\n",
       "    </tr>\n",
       "    <tr>\n",
       "      <th>2</th>\n",
       "      <td>1</td>\n",
       "      <td>1061</td>\n",
       "      <td>3.0</td>\n",
       "      <td>1260759182</td>\n",
       "    </tr>\n",
       "    <tr>\n",
       "      <th>3</th>\n",
       "      <td>1</td>\n",
       "      <td>1129</td>\n",
       "      <td>2.0</td>\n",
       "      <td>1260759185</td>\n",
       "    </tr>\n",
       "    <tr>\n",
       "      <th>4</th>\n",
       "      <td>1</td>\n",
       "      <td>1172</td>\n",
       "      <td>4.0</td>\n",
       "      <td>1260759205</td>\n",
       "    </tr>\n",
       "  </tbody>\n",
       "</table>\n",
       "</div>"
      ],
      "text/plain": [
       "   userId  movieId  rating   timestamp\n",
       "0       1       31     2.5  1260759144\n",
       "1       1     1029     3.0  1260759179\n",
       "2       1     1061     3.0  1260759182\n",
       "3       1     1129     2.0  1260759185\n",
       "4       1     1172     4.0  1260759205"
      ]
     },
     "execution_count": 4,
     "metadata": {},
     "output_type": "execute_result"
    }
   ],
   "source": [
    "ratings.head()"
   ]
  },
  {
   "cell_type": "code",
   "execution_count": 5,
   "metadata": {
    "execution": {
     "iopub.execute_input": "2023-11-18T21:38:59.480149Z",
     "iopub.status.busy": "2023-11-18T21:38:59.479831Z",
     "iopub.status.idle": "2023-11-18T21:38:59.496131Z",
     "shell.execute_reply": "2023-11-18T21:38:59.494735Z",
     "shell.execute_reply.started": "2023-11-18T21:38:59.480122Z"
    }
   },
   "outputs": [
    {
     "name": "stdout",
     "output_type": "stream",
     "text": [
      "<class 'pandas.core.frame.DataFrame'>\n",
      "RangeIndex: 100004 entries, 0 to 100003\n",
      "Data columns (total 4 columns):\n",
      " #   Column     Non-Null Count   Dtype  \n",
      "---  ------     --------------   -----  \n",
      " 0   userId     100004 non-null  int64  \n",
      " 1   movieId    100004 non-null  int64  \n",
      " 2   rating     100004 non-null  float64\n",
      " 3   timestamp  100004 non-null  int64  \n",
      "dtypes: float64(1), int64(3)\n",
      "memory usage: 3.1 MB\n"
     ]
    }
   ],
   "source": [
    "ratings.info()"
   ]
  },
  {
   "cell_type": "code",
   "execution_count": 6,
   "metadata": {
    "execution": {
     "iopub.execute_input": "2023-11-18T21:38:59.497829Z",
     "iopub.status.busy": "2023-11-18T21:38:59.497536Z",
     "iopub.status.idle": "2023-11-18T21:38:59.515769Z",
     "shell.execute_reply": "2023-11-18T21:38:59.514815Z",
     "shell.execute_reply.started": "2023-11-18T21:38:59.497802Z"
    }
   },
   "outputs": [
    {
     "data": {
      "text/plain": [
       "0.5"
      ]
     },
     "execution_count": 6,
     "metadata": {},
     "output_type": "execute_result"
    }
   ],
   "source": [
    "min(ratings['rating'])"
   ]
  },
  {
   "cell_type": "code",
   "execution_count": 7,
   "metadata": {
    "execution": {
     "iopub.execute_input": "2023-11-18T21:38:59.517125Z",
     "iopub.status.busy": "2023-11-18T21:38:59.516858Z",
     "iopub.status.idle": "2023-11-18T21:38:59.540015Z",
     "shell.execute_reply": "2023-11-18T21:38:59.538968Z",
     "shell.execute_reply.started": "2023-11-18T21:38:59.517101Z"
    }
   },
   "outputs": [
    {
     "data": {
      "text/plain": [
       "5.0"
      ]
     },
     "execution_count": 7,
     "metadata": {},
     "output_type": "execute_result"
    }
   ],
   "source": [
    "max(ratings['rating'])"
   ]
  },
  {
   "cell_type": "code",
   "execution_count": 8,
   "metadata": {
    "execution": {
     "iopub.execute_input": "2023-11-18T21:38:59.541997Z",
     "iopub.status.busy": "2023-11-18T21:38:59.541679Z",
     "iopub.status.idle": "2023-11-18T21:38:59.656198Z",
     "shell.execute_reply": "2023-11-18T21:38:59.655128Z",
     "shell.execute_reply.started": "2023-11-18T21:38:59.541970Z"
    }
   },
   "outputs": [],
   "source": [
    "reader=Reader(rating_scale=(0.5,5))\n",
    "dataset=Dataset.load_from_df(ratings[['userId','movieId','rating']],reader)"
   ]
  },
  {
   "cell_type": "code",
   "execution_count": 9,
   "metadata": {
    "execution": {
     "iopub.execute_input": "2023-11-18T21:38:59.658647Z",
     "iopub.status.busy": "2023-11-18T21:38:59.658273Z",
     "iopub.status.idle": "2023-11-18T21:38:59.832775Z",
     "shell.execute_reply": "2023-11-18T21:38:59.831077Z",
     "shell.execute_reply.started": "2023-11-18T21:38:59.658619Z"
    }
   },
   "outputs": [],
   "source": [
    "trainset, testset = train_test_split(dataset, test_size=0.25)"
   ]
  },
  {
   "cell_type": "code",
   "execution_count": 10,
   "metadata": {
    "execution": {
     "iopub.execute_input": "2023-11-18T21:38:59.838004Z",
     "iopub.status.busy": "2023-11-18T21:38:59.836803Z",
     "iopub.status.idle": "2023-11-18T21:38:59.907442Z",
     "shell.execute_reply": "2023-11-18T21:38:59.905578Z",
     "shell.execute_reply.started": "2023-11-18T21:38:59.837950Z"
    }
   },
   "outputs": [],
   "source": [
    "algo = SVD()"
   ]
  },
  {
   "cell_type": "code",
   "execution_count": 11,
   "metadata": {
    "execution": {
     "iopub.execute_input": "2023-11-18T21:38:59.909243Z",
     "iopub.status.busy": "2023-11-18T21:38:59.908870Z",
     "iopub.status.idle": "2023-11-18T21:39:00.986921Z",
     "shell.execute_reply": "2023-11-18T21:39:00.985710Z",
     "shell.execute_reply.started": "2023-11-18T21:38:59.909201Z"
    }
   },
   "outputs": [
    {
     "data": {
      "text/plain": [
       "<surprise.prediction_algorithms.matrix_factorization.SVD at 0x7fd7a975f5b0>"
      ]
     },
     "execution_count": 11,
     "metadata": {},
     "output_type": "execute_result"
    }
   ],
   "source": [
    "algo.fit(trainset)"
   ]
  },
  {
   "cell_type": "code",
   "execution_count": 12,
   "metadata": {
    "execution": {
     "iopub.execute_input": "2023-11-18T21:39:00.988899Z",
     "iopub.status.busy": "2023-11-18T21:39:00.988577Z",
     "iopub.status.idle": "2023-11-18T21:39:08.581921Z",
     "shell.execute_reply": "2023-11-18T21:39:08.580498Z",
     "shell.execute_reply.started": "2023-11-18T21:39:00.988872Z"
    }
   },
   "outputs": [
    {
     "name": "stdout",
     "output_type": "stream",
     "text": [
      "Evaluating RMSE of algorithm SVD on 5 split(s).\n",
      "\n",
      "                  Fold 1  Fold 2  Fold 3  Fold 4  Fold 5  Mean    Std     \n",
      "RMSE (testset)    0.8960  0.8934  0.9027  0.8977  0.8964  0.8972  0.0031  \n",
      "Fit time          0.48    0.50    0.49    0.47    0.48    0.49    0.01    \n",
      "Test time         0.07    0.11    0.06    0.06    0.11    0.08    0.02    \n",
      "\n",
      "SVD Cross-Validation Results:\n",
      "test_rmse: 0.8972283281651908\n",
      "fit_time: 0.4868904113769531\n",
      "test_time: 0.08300838470458985\n"
     ]
    }
   ],
   "source": [
    "predictions=algo.test(testset)\n",
    "svd_cv_results = cross_validate(algo, dataset, measures=['RMSE'], cv=5, verbose=True)\n",
    "print(\"\\nSVD Cross-Validation Results:\")\n",
    "for key, value in svd_cv_results.items():\n",
    "    print(f\"{key}: {sum(value) / len(value)}\")"
   ]
  },
  {
   "cell_type": "code",
   "execution_count": 13,
   "metadata": {
    "execution": {
     "iopub.execute_input": "2023-11-18T21:39:08.583561Z",
     "iopub.status.busy": "2023-11-18T21:39:08.583251Z",
     "iopub.status.idle": "2023-11-18T21:39:15.776454Z",
     "shell.execute_reply": "2023-11-18T21:39:15.775589Z",
     "shell.execute_reply.started": "2023-11-18T21:39:08.583529Z"
    }
   },
   "outputs": [
    {
     "name": "stdout",
     "output_type": "stream",
     "text": [
      "Evaluating MAE of algorithm SVD on 5 split(s).\n",
      "\n",
      "                  Fold 1  Fold 2  Fold 3  Fold 4  Fold 5  Mean    Std     \n",
      "MAE (testset)     0.6919  0.6892  0.6922  0.6956  0.6886  0.6915  0.0025  \n",
      "Fit time          0.50    0.48    0.52    0.49    0.49    0.50    0.01    \n",
      "Test time         0.06    0.11    0.06    0.06    0.12    0.08    0.03    \n",
      "\n",
      "SVD Cross-Validation Results:\n",
      "test_mae: 0.6914986464094436\n",
      "fit_time: 0.49666290283203124\n",
      "test_time: 0.08427362442016602\n"
     ]
    }
   ],
   "source": [
    "svd_cv_results = cross_validate(algo, dataset, measures=['MAE'], cv=5, verbose=True)\n",
    "print(\"\\nSVD Cross-Validation Results:\")\n",
    "for key, value in svd_cv_results.items():\n",
    "    print(f\"{key}: {sum(value) / len(value)}\")"
   ]
  },
  {
   "cell_type": "markdown",
   "metadata": {},
   "source": [
    "# User based collaborative filtering"
   ]
  },
  {
   "cell_type": "code",
   "execution_count": 14,
   "metadata": {
    "execution": {
     "iopub.execute_input": "2023-11-18T21:39:15.777704Z",
     "iopub.status.busy": "2023-11-18T21:39:15.777459Z",
     "iopub.status.idle": "2023-11-18T21:39:35.358378Z",
     "shell.execute_reply": "2023-11-18T21:39:35.356615Z",
     "shell.execute_reply.started": "2023-11-18T21:39:15.777682Z"
    }
   },
   "outputs": [
    {
     "name": "stdout",
     "output_type": "stream",
     "text": [
      "\n",
      "User based collaborative Cross-Validation Results:\n",
      "test_rmse: 0.9941085549393295\n",
      "fit_time: 0.07368698120117187\n",
      "test_time: 0.8022275924682617\n",
      "\n",
      "User based collaborative Cross-Validation Results:\n",
      "test_mae: 0.7686037392402165\n",
      "fit_time: 0.07203230857849122\n",
      "test_time: 0.7696543216705323\n"
     ]
    }
   ],
   "source": [
    "from surprise import KNNBasic\n",
    "\n",
    "# Use user-based collaborative filtering (KNNBasic with cosine similarity)\n",
    "sim_options = {\n",
    "    'name': 'cosine',\n",
    "    'user_based': True\n",
    "}\n",
    "\n",
    "algo = KNNBasic(sim_options=sim_options,verbose=False)\n",
    "\n",
    "# Train the model\n",
    "algo.fit(trainset)\n",
    "\n",
    "# Predict ratings for the test set\n",
    "predictions = algo.test(testset)\n",
    "\n",
    "# Evaluate the model's accuracy\n",
    "user_cv_results = cross_validate(algo, dataset, measures=['RMSE'], cv=5, verbose=False)\n",
    "print(\"\\nUser based collaborative Cross-Validation Results:\")\n",
    "for key, value in user_cv_results.items():\n",
    "    print(f\"{key}: {sum(value) / len(value)}\")\n",
    "\n",
    "user_cv_results = cross_validate(algo, dataset, measures=['MAE'], cv=5, verbose=False)\n",
    "print(\"\\nUser based collaborative Cross-Validation Results:\")\n",
    "for key, value in user_cv_results.items():\n",
    "    print(f\"{key}: {sum(value) / len(value)}\")"
   ]
  },
  {
   "cell_type": "code",
   "execution_count": 15,
   "metadata": {
    "execution": {
     "iopub.execute_input": "2023-11-18T21:39:35.360429Z",
     "iopub.status.busy": "2023-11-18T21:39:35.360039Z",
     "iopub.status.idle": "2023-11-18T21:41:35.707590Z",
     "shell.execute_reply": "2023-11-18T21:41:35.706224Z",
     "shell.execute_reply.started": "2023-11-18T21:39:35.360379Z"
    }
   },
   "outputs": [
    {
     "name": "stdout",
     "output_type": "stream",
     "text": [
      "\n",
      "Item based collaborative Cross-Validation Results:\n",
      "test_rmse: 0.9940347661791549\n",
      "fit_time: 3.31239595413208\n",
      "test_time: 3.361874294281006\n",
      "\n",
      "Item based collaborative Cross-Validation Results:\n",
      "test_mae: 0.774016679179739\n",
      "fit_time: 3.3633928298950195\n",
      "test_time: 3.359212303161621\n"
     ]
    }
   ],
   "source": [
    "# Use item-based collaborative filtering (KNNBasic with cosine similarity)\n",
    "sim_options = {\n",
    "    'name': 'cosine',\n",
    "    'user_based': False\n",
    "}\n",
    "\n",
    "algo = KNNBasic(sim_options=sim_options,verbose=False)\n",
    "\n",
    "# Train the model\n",
    "algo.fit(trainset)\n",
    "\n",
    "# Predict ratings for the test set\n",
    "predictions = algo.test(testset)\n",
    "\n",
    "# Evaluate the model's accuracy\n",
    "item_cv_results = cross_validate(algo, dataset, measures=['RMSE'], cv=5, verbose=False)\n",
    "print(\"\\nItem based collaborative Cross-Validation Results:\")\n",
    "for key, value in item_cv_results.items():\n",
    "    print(f\"{key}: {sum(value) / len(value)}\")\n",
    "\n",
    "item_cv_results = cross_validate(algo, dataset, measures=['MAE'], cv=5, verbose=False)\n",
    "print(\"\\nItem based collaborative Cross-Validation Results:\")\n",
    "for key, value in item_cv_results.items():\n",
    "    print(f\"{key}: {sum(value) / len(value)}\")"
   ]
  },
  {
   "cell_type": "code",
   "execution_count": 16,
   "metadata": {
    "execution": {
     "iopub.execute_input": "2023-11-18T21:41:35.709262Z",
     "iopub.status.busy": "2023-11-18T21:41:35.708952Z",
     "iopub.status.idle": "2023-11-18T21:44:40.541491Z",
     "shell.execute_reply": "2023-11-18T21:44:40.540506Z",
     "shell.execute_reply.started": "2023-11-18T21:41:35.709232Z"
    }
   },
   "outputs": [
    {
     "data": {
      "image/png": "[encoded data removed]",
      "text/plain": [
       "<Figure size 1000x500 with 2 Axes>"
      ]
     },
     "metadata": {},
     "output_type": "display_data"
    }
   ],
   "source": [
    "import matplotlib.pyplot as plt\n",
    "\n",
    "similarity_metrics = ['cosine', 'msd', 'pearson']\n",
    "\n",
    "user_results = {}\n",
    "item_results = {}\n",
    "\n",
    "for metric in similarity_metrics:\n",
    "    # User-based CF\n",
    "    sim_options_user = {\n",
    "        'name': metric,\n",
    "        'user_based': True\n",
    "    }\n",
    "\n",
    "    algo_user = KNNBasic(sim_options=sim_options_user,verbose=False)\n",
    "\n",
    "    user_cv_results = cross_validate(algo_user, dataset, measures=['RMSE'], cv=5, verbose=False)\n",
    "    user_results[metric] = sum(user_cv_results['test_rmse']) / len(user_cv_results['test_rmse'])\n",
    "\n",
    "    # Item-based CF\n",
    "    sim_options_item = {\n",
    "        'name': metric,\n",
    "        'user_based': False\n",
    "    }\n",
    "\n",
    "    algo_item = KNNBasic(sim_options=sim_options_item,verbose=False)\n",
    "\n",
    "    item_cv_results = cross_validate(algo_item, dataset, measures=['RMSE'], cv=5, verbose=False)\n",
    "    item_results[metric] = sum(item_cv_results['test_rmse']) / len(item_cv_results['test_rmse'])\n",
    "\n",
    "# Plotting results\n",
    "metrics = list(user_results.keys())\n",
    "user_rmse = list(user_results.values())\n",
    "item_rmse = list(item_results.values())\n",
    "\n",
    "plt.figure(figsize=(10, 5))\n",
    "\n",
    "plt.subplot(1, 2, 1)\n",
    "plt.bar(metrics, user_rmse, color='blue')\n",
    "plt.title('User-based CF RMSE for Different Similarity Metrics')\n",
    "plt.xlabel('Similarity Metrics')\n",
    "plt.ylabel('RMSE')\n",
    "\n",
    "plt.subplot(1, 2, 2)\n",
    "plt.bar(metrics, item_rmse, color='orange')\n",
    "plt.title('Item-based CF RMSE for Different Similarity Metrics')\n",
    "plt.xlabel('Similarity Metrics')\n",
    "plt.ylabel('RMSE')\n",
    "\n",
    "plt.tight_layout()\n",
    "plt.show()"
   ]
  },
  {
   "cell_type": "code",
   "execution_count": 19,
   "metadata": {
    "execution": {
     "iopub.execute_input": "2023-11-18T21:52:56.381314Z",
     "iopub.status.busy": "2023-11-18T21:52:56.380972Z"
    }
   },
   "outputs": [
    {
     "data": {
      "image/png": "[encoded data removed]",
      "text/plain": [
       "<Figure size 800x500 with 1 Axes>"
      ]
     },
     "metadata": {},
     "output_type": "display_data"
    }
   ],
   "source": [
    "# Define a range of number of neighbors to test\n",
    "num_neighbors_range = [10,100,120,140,160,180,200,300,400,500,750,1000]\n",
    "\n",
    "user_results = []\n",
    "item_results = []\n",
    "\n",
    "for num_neighbors in num_neighbors_range:\n",
    "    # User-based CF\n",
    "    sim_options_user = {\n",
    "        'name': 'cosine',\n",
    "        'user_based': True\n",
    "    }\n",
    "\n",
    "    algo_user = KNNBasic(k=num_neighbors, sim_options=sim_options_user,verbose=False)\n",
    "\n",
    "    user_cv_results = cross_validate(algo_user, dataset, measures=['RMSE'], cv=5, verbose=False)\n",
    "    user_results.append(sum(user_cv_results['test_rmse']) / len(user_cv_results['test_rmse']))\n",
    "\n",
    "    # Item-based CF\n",
    "    sim_options_item = {\n",
    "        'name': 'cosine',\n",
    "        'user_based': False\n",
    "    }\n",
    "\n",
    "    algo_item = KNNBasic(k=num_neighbors, sim_options=sim_options_item,verbose=False)\n",
    "\n",
    "    item_cv_results = cross_validate(algo_item, dataset, measures=['RMSE'], cv=5, verbose=False)\n",
    "    item_results.append(sum(item_cv_results['test_rmse']) / len(item_cv_results['test_rmse']))\n",
    "\n",
    "# Plotting results\n",
    "plt.figure(figsize=(8, 5))\n",
    "\n",
    "plt.plot(num_neighbors_range, user_results, marker='o', label='User-based CF', color='blue')\n",
    "plt.plot(num_neighbors_range, item_results, marker='o', label='Item-based CF', color='orange')\n",
    "\n",
    "plt.title('Impact of Number of Neighbors on Collaborative Filtering')\n",
    "plt.xlabel('Number of Neighbors')\n",
    "plt.ylabel('RMSE')\n",
    "plt.legend()\n",
    "plt.grid(True)\n",
    "plt.show()\n"
   ]
  },
  {
   "cell_type": "code",
   "execution_count": null,
   "metadata": {},
   "outputs": [],
   "source": []
  }
 ],
 "metadata": {
  "kaggle": {
   "accelerator": "none",
   "dataSources": [
    {
     "datasetId": 4023030,
     "sourceId": 6998323,
     "sourceType": "datasetVersion"
    }
   ],
   "dockerImageVersionId": 30587,
   "isGpuEnabled": false,
   "isInternetEnabled": true,
   "language": "python",
   "sourceType": "notebook"
  },
  "kernelspec": {
   "display_name": "Python 3 (ipykernel)",
   "language": "python",
   "name": "python3"
  },
  "language_info": {
   "codemirror_mode": {
    "name": "ipython",
    "version": 3
   },
   "file_extension": ".py",
   "mimetype": "text/x-python",
   "name": "python",
   "nbconvert_exporter": "python",
   "pygments_lexer": "ipython3",
   "version": "3.10.13"
  }
 },
 "nbformat": 4,
 "nbformat_minor": 4
}
