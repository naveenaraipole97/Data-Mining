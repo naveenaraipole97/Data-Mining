{
 "cells": [
  {
   "cell_type": "code",
   "execution_count": 1,
   "id": "a4d15566",
   "metadata": {},
   "outputs": [],
   "source": [
    "import pandas as pd\n",
    "import numpy as np\n",
    "\n",
    "X = pd.read_csv('kmeans_data/data.csv')\n",
    "y = pd.read_csv('kmeans_data/label.csv')\n",
    "\n",
    "# Determine the number of categories in 'y'\n",
    "K = len(np.unique(y))"
   ]
  },
  {
   "cell_type": "code",
   "execution_count": 2,
   "id": "415052b5",
   "metadata": {},
   "outputs": [
    {
     "data": {
      "text/plain": [
       "10"
      ]
     },
     "execution_count": 2,
     "metadata": {},
     "output_type": "execute_result"
    }
   ],
   "source": [
    "K"
   ]
  },
  {
   "cell_type": "code",
   "execution_count": 3,
   "id": "f2001c29",
   "metadata": {},
   "outputs": [
    {
     "name": "stderr",
     "output_type": "stream",
     "text": [
      "/var/folders/2q/kx7vz_ps7vnf2x98hyclgh7c0000gn/T/ipykernel_56204/2842412443.py:1: FutureWarning: Series.__getitem__ treating keys as positions is deprecated. In a future version, integer keys will always be treated as labels (consistent with DataFrame behavior). To access a value by position, use `ser.iloc[pos]`\n",
      "  X.iloc[0][0].dtype\n"
     ]
    },
    {
     "data": {
      "text/plain": [
       "dtype('int64')"
      ]
     },
     "execution_count": 3,
     "metadata": {},
     "output_type": "execute_result"
    }
   ],
   "source": [
    "X.iloc[0][0].dtype"
   ]
  },
  {
   "cell_type": "code",
   "execution_count": 4,
   "id": "878e6edb",
   "metadata": {},
   "outputs": [
    {
     "data": {
      "text/html": [
       "<div>\n",
       "<style scoped>\n",
       "    .dataframe tbody tr th:only-of-type {\n",
       "        vertical-align: middle;\n",
       "    }\n",
       "\n",
       "    .dataframe tbody tr th {\n",
       "        vertical-align: top;\n",
       "    }\n",
       "\n",
       "    .dataframe thead th {\n",
       "        text-align: right;\n",
       "    }\n",
       "</style>\n",
       "<table border=\"1\" class=\"dataframe\">\n",
       "  <thead>\n",
       "    <tr style=\"text-align: right;\">\n",
       "      <th></th>\n",
       "      <th>0</th>\n",
       "      <th>0.1</th>\n",
       "      <th>0.2</th>\n",
       "      <th>0.3</th>\n",
       "      <th>0.4</th>\n",
       "      <th>0.5</th>\n",
       "      <th>0.6</th>\n",
       "      <th>0.7</th>\n",
       "      <th>0.8</th>\n",
       "      <th>0.9</th>\n",
       "      <th>...</th>\n",
       "      <th>0.658</th>\n",
       "      <th>0.659</th>\n",
       "      <th>0.660</th>\n",
       "      <th>0.661</th>\n",
       "      <th>0.662</th>\n",
       "      <th>0.663</th>\n",
       "      <th>0.664</th>\n",
       "      <th>0.665</th>\n",
       "      <th>0.666</th>\n",
       "      <th>0.667</th>\n",
       "    </tr>\n",
       "  </thead>\n",
       "  <tbody>\n",
       "    <tr>\n",
       "      <th>0</th>\n",
       "      <td>0</td>\n",
       "      <td>0</td>\n",
       "      <td>0</td>\n",
       "      <td>0</td>\n",
       "      <td>0</td>\n",
       "      <td>0</td>\n",
       "      <td>0</td>\n",
       "      <td>0</td>\n",
       "      <td>0</td>\n",
       "      <td>0</td>\n",
       "      <td>...</td>\n",
       "      <td>0</td>\n",
       "      <td>0</td>\n",
       "      <td>0</td>\n",
       "      <td>0</td>\n",
       "      <td>0</td>\n",
       "      <td>0</td>\n",
       "      <td>0</td>\n",
       "      <td>0</td>\n",
       "      <td>0</td>\n",
       "      <td>0</td>\n",
       "    </tr>\n",
       "    <tr>\n",
       "      <th>1</th>\n",
       "      <td>0</td>\n",
       "      <td>0</td>\n",
       "      <td>0</td>\n",
       "      <td>0</td>\n",
       "      <td>0</td>\n",
       "      <td>0</td>\n",
       "      <td>0</td>\n",
       "      <td>0</td>\n",
       "      <td>0</td>\n",
       "      <td>0</td>\n",
       "      <td>...</td>\n",
       "      <td>0</td>\n",
       "      <td>0</td>\n",
       "      <td>0</td>\n",
       "      <td>0</td>\n",
       "      <td>0</td>\n",
       "      <td>0</td>\n",
       "      <td>0</td>\n",
       "      <td>0</td>\n",
       "      <td>0</td>\n",
       "      <td>0</td>\n",
       "    </tr>\n",
       "    <tr>\n",
       "      <th>2</th>\n",
       "      <td>0</td>\n",
       "      <td>0</td>\n",
       "      <td>0</td>\n",
       "      <td>0</td>\n",
       "      <td>0</td>\n",
       "      <td>0</td>\n",
       "      <td>0</td>\n",
       "      <td>0</td>\n",
       "      <td>0</td>\n",
       "      <td>0</td>\n",
       "      <td>...</td>\n",
       "      <td>0</td>\n",
       "      <td>0</td>\n",
       "      <td>0</td>\n",
       "      <td>0</td>\n",
       "      <td>0</td>\n",
       "      <td>0</td>\n",
       "      <td>0</td>\n",
       "      <td>0</td>\n",
       "      <td>0</td>\n",
       "      <td>0</td>\n",
       "    </tr>\n",
       "    <tr>\n",
       "      <th>3</th>\n",
       "      <td>0</td>\n",
       "      <td>0</td>\n",
       "      <td>0</td>\n",
       "      <td>0</td>\n",
       "      <td>0</td>\n",
       "      <td>0</td>\n",
       "      <td>0</td>\n",
       "      <td>0</td>\n",
       "      <td>0</td>\n",
       "      <td>0</td>\n",
       "      <td>...</td>\n",
       "      <td>0</td>\n",
       "      <td>0</td>\n",
       "      <td>0</td>\n",
       "      <td>0</td>\n",
       "      <td>0</td>\n",
       "      <td>0</td>\n",
       "      <td>0</td>\n",
       "      <td>0</td>\n",
       "      <td>0</td>\n",
       "      <td>0</td>\n",
       "    </tr>\n",
       "    <tr>\n",
       "      <th>4</th>\n",
       "      <td>0</td>\n",
       "      <td>0</td>\n",
       "      <td>0</td>\n",
       "      <td>0</td>\n",
       "      <td>0</td>\n",
       "      <td>0</td>\n",
       "      <td>0</td>\n",
       "      <td>0</td>\n",
       "      <td>0</td>\n",
       "      <td>0</td>\n",
       "      <td>...</td>\n",
       "      <td>0</td>\n",
       "      <td>0</td>\n",
       "      <td>0</td>\n",
       "      <td>0</td>\n",
       "      <td>0</td>\n",
       "      <td>0</td>\n",
       "      <td>0</td>\n",
       "      <td>0</td>\n",
       "      <td>0</td>\n",
       "      <td>0</td>\n",
       "    </tr>\n",
       "    <tr>\n",
       "      <th>...</th>\n",
       "      <td>...</td>\n",
       "      <td>...</td>\n",
       "      <td>...</td>\n",
       "      <td>...</td>\n",
       "      <td>...</td>\n",
       "      <td>...</td>\n",
       "      <td>...</td>\n",
       "      <td>...</td>\n",
       "      <td>...</td>\n",
       "      <td>...</td>\n",
       "      <td>...</td>\n",
       "      <td>...</td>\n",
       "      <td>...</td>\n",
       "      <td>...</td>\n",
       "      <td>...</td>\n",
       "      <td>...</td>\n",
       "      <td>...</td>\n",
       "      <td>...</td>\n",
       "      <td>...</td>\n",
       "      <td>...</td>\n",
       "      <td>...</td>\n",
       "    </tr>\n",
       "    <tr>\n",
       "      <th>9994</th>\n",
       "      <td>0</td>\n",
       "      <td>0</td>\n",
       "      <td>0</td>\n",
       "      <td>0</td>\n",
       "      <td>0</td>\n",
       "      <td>0</td>\n",
       "      <td>0</td>\n",
       "      <td>0</td>\n",
       "      <td>0</td>\n",
       "      <td>0</td>\n",
       "      <td>...</td>\n",
       "      <td>0</td>\n",
       "      <td>0</td>\n",
       "      <td>0</td>\n",
       "      <td>0</td>\n",
       "      <td>0</td>\n",
       "      <td>0</td>\n",
       "      <td>0</td>\n",
       "      <td>0</td>\n",
       "      <td>0</td>\n",
       "      <td>0</td>\n",
       "    </tr>\n",
       "    <tr>\n",
       "      <th>9995</th>\n",
       "      <td>0</td>\n",
       "      <td>0</td>\n",
       "      <td>0</td>\n",
       "      <td>0</td>\n",
       "      <td>0</td>\n",
       "      <td>0</td>\n",
       "      <td>0</td>\n",
       "      <td>0</td>\n",
       "      <td>0</td>\n",
       "      <td>0</td>\n",
       "      <td>...</td>\n",
       "      <td>0</td>\n",
       "      <td>0</td>\n",
       "      <td>0</td>\n",
       "      <td>0</td>\n",
       "      <td>0</td>\n",
       "      <td>0</td>\n",
       "      <td>0</td>\n",
       "      <td>0</td>\n",
       "      <td>0</td>\n",
       "      <td>0</td>\n",
       "    </tr>\n",
       "    <tr>\n",
       "      <th>9996</th>\n",
       "      <td>0</td>\n",
       "      <td>0</td>\n",
       "      <td>0</td>\n",
       "      <td>0</td>\n",
       "      <td>0</td>\n",
       "      <td>0</td>\n",
       "      <td>0</td>\n",
       "      <td>0</td>\n",
       "      <td>0</td>\n",
       "      <td>0</td>\n",
       "      <td>...</td>\n",
       "      <td>0</td>\n",
       "      <td>0</td>\n",
       "      <td>0</td>\n",
       "      <td>0</td>\n",
       "      <td>0</td>\n",
       "      <td>0</td>\n",
       "      <td>0</td>\n",
       "      <td>0</td>\n",
       "      <td>0</td>\n",
       "      <td>0</td>\n",
       "    </tr>\n",
       "    <tr>\n",
       "      <th>9997</th>\n",
       "      <td>0</td>\n",
       "      <td>0</td>\n",
       "      <td>0</td>\n",
       "      <td>0</td>\n",
       "      <td>0</td>\n",
       "      <td>0</td>\n",
       "      <td>0</td>\n",
       "      <td>0</td>\n",
       "      <td>0</td>\n",
       "      <td>0</td>\n",
       "      <td>...</td>\n",
       "      <td>0</td>\n",
       "      <td>0</td>\n",
       "      <td>0</td>\n",
       "      <td>0</td>\n",
       "      <td>0</td>\n",
       "      <td>0</td>\n",
       "      <td>0</td>\n",
       "      <td>0</td>\n",
       "      <td>0</td>\n",
       "      <td>0</td>\n",
       "    </tr>\n",
       "    <tr>\n",
       "      <th>9998</th>\n",
       "      <td>0</td>\n",
       "      <td>0</td>\n",
       "      <td>0</td>\n",
       "      <td>0</td>\n",
       "      <td>0</td>\n",
       "      <td>0</td>\n",
       "      <td>0</td>\n",
       "      <td>0</td>\n",
       "      <td>0</td>\n",
       "      <td>0</td>\n",
       "      <td>...</td>\n",
       "      <td>0</td>\n",
       "      <td>0</td>\n",
       "      <td>0</td>\n",
       "      <td>0</td>\n",
       "      <td>0</td>\n",
       "      <td>0</td>\n",
       "      <td>0</td>\n",
       "      <td>0</td>\n",
       "      <td>0</td>\n",
       "      <td>0</td>\n",
       "    </tr>\n",
       "  </tbody>\n",
       "</table>\n",
       "<p>9999 rows × 784 columns</p>\n",
       "</div>"
      ],
      "text/plain": [
       "      0  0.1  0.2  0.3  0.4  0.5  0.6  0.7  0.8  0.9  ...  0.658  0.659  \\\n",
       "0     0    0    0    0    0    0    0    0    0    0  ...      0      0   \n",
       "1     0    0    0    0    0    0    0    0    0    0  ...      0      0   \n",
       "2     0    0    0    0    0    0    0    0    0    0  ...      0      0   \n",
       "3     0    0    0    0    0    0    0    0    0    0  ...      0      0   \n",
       "4     0    0    0    0    0    0    0    0    0    0  ...      0      0   \n",
       "...  ..  ...  ...  ...  ...  ...  ...  ...  ...  ...  ...    ...    ...   \n",
       "9994  0    0    0    0    0    0    0    0    0    0  ...      0      0   \n",
       "9995  0    0    0    0    0    0    0    0    0    0  ...      0      0   \n",
       "9996  0    0    0    0    0    0    0    0    0    0  ...      0      0   \n",
       "9997  0    0    0    0    0    0    0    0    0    0  ...      0      0   \n",
       "9998  0    0    0    0    0    0    0    0    0    0  ...      0      0   \n",
       "\n",
       "      0.660  0.661  0.662  0.663  0.664  0.665  0.666  0.667  \n",
       "0         0      0      0      0      0      0      0      0  \n",
       "1         0      0      0      0      0      0      0      0  \n",
       "2         0      0      0      0      0      0      0      0  \n",
       "3         0      0      0      0      0      0      0      0  \n",
       "4         0      0      0      0      0      0      0      0  \n",
       "...     ...    ...    ...    ...    ...    ...    ...    ...  \n",
       "9994      0      0      0      0      0      0      0      0  \n",
       "9995      0      0      0      0      0      0      0      0  \n",
       "9996      0      0      0      0      0      0      0      0  \n",
       "9997      0      0      0      0      0      0      0      0  \n",
       "9998      0      0      0      0      0      0      0      0  \n",
       "\n",
       "[9999 rows x 784 columns]"
      ]
     },
     "execution_count": 4,
     "metadata": {},
     "output_type": "execute_result"
    }
   ],
   "source": [
    "X"
   ]
  },
  {
   "cell_type": "code",
   "execution_count": 5,
   "id": "509d9515",
   "metadata": {},
   "outputs": [],
   "source": [
    "from sklearn.metrics.pairwise import cosine_similarity\n",
    "\n",
    "def euclidean_distance(a, b):\n",
    "#     print(a)\n",
    "#     print(a[0].dtype)\n",
    "#     print(b[0].dtype)\n",
    "    return np.sqrt(np.sum((a - b) ** 2))\n",
    "\n",
    "def cosine_similarity_func(a, b):\n",
    "    return 1 - cosine_similarity([a], [b])[0][0]\n",
    "\n",
    "def jaccard_similarity(a, b):\n",
    "    intersection = len(set(a).intersection(set(b)))\n",
    "    union = len(set(a).union(set(b)))\n",
    "    return 1 - (intersection / union)"
   ]
  },
  {
   "cell_type": "code",
   "execution_count": 6,
   "id": "acebfeb4",
   "metadata": {},
   "outputs": [],
   "source": [
    "# print(X.columns)\n",
    "# print(X.index)\n",
    "# print(X.iloc[np.random.choice(X.shape[0], k, replace=False)])\n",
    "# X.iloc[6083]"
   ]
  },
  {
   "cell_type": "code",
   "execution_count": 7,
   "id": "213cfe26",
   "metadata": {},
   "outputs": [
    {
     "data": {
      "text/plain": [
       "9999"
      ]
     },
     "execution_count": 7,
     "metadata": {},
     "output_type": "execute_result"
    }
   ],
   "source": [
    "len(X)"
   ]
  },
  {
   "cell_type": "code",
   "execution_count": 8,
   "id": "6ca2ee85",
   "metadata": {},
   "outputs": [],
   "source": [
    "import sys\n",
    "\n",
    "def k_means_clustering(data, k, distance_metric, max_iters=25):\n",
    "    centroids_idx = np.random.choice(len(data), k, replace=False)\n",
    "    centroids = data.iloc[centroids_idx]\n",
    "    for _ in range(max_iters):\n",
    "        clusters = {i: [] for i in range(k)}\n",
    "        for i in range(len(data)):\n",
    "            point = data.iloc[i]\n",
    "            min_distance=sys.maxsize\n",
    "            closest_centroid=0\n",
    "            centroids.index = range(10)\n",
    "            \n",
    "            for i,centroid in centroids.iterrows():\n",
    "                distance=distance_metric(point, centroid)\n",
    "                if(distance<min_distance):\n",
    "                    closest_centroid=i\n",
    "                    \n",
    "                    min_distance=distance\n",
    "            clusters[closest_centroid].append(point)\n",
    "\n",
    "        # Update centroids\n",
    "        new_centroids_data = []\n",
    "        for j in range(k):\n",
    "            if clusters[j]:\n",
    "                new_centroid = np.mean(clusters[j], axis=0)\n",
    "                new_centroids_data.append(new_centroid)\n",
    "            else:\n",
    "                new_centroids_data.append(centroids.loc[j].values)\n",
    "        \n",
    "        centroids = pd.DataFrame(new_centroids_data, columns=data.columns)\n",
    "        \n",
    "    return centroids,clusters"
   ]
  },
  {
   "cell_type": "code",
   "execution_count": 10,
   "id": "0a2bb474",
   "metadata": {},
   "outputs": [],
   "source": [
    "def calculate_sse(centroids, clusters, distance_metric):\n",
    "    sse = 0\n",
    "    for i in range(len(centroids)):\n",
    "        cluster_points = clusters[i]\n",
    "        centroid = centroids.iloc[i]\n",
    "        sse += np.sum([distance_metric(point, centroid) ** 2 for point in cluster_points])\n",
    "    return sse"
   ]
  },
  {
   "cell_type": "code",
   "execution_count": 11,
   "id": "52100466",
   "metadata": {},
   "outputs": [],
   "source": [
    "# Calculate the number of categorical values in 'y' (number of classifications)\n",
    "k = len(np.unique(y))\n",
    "\n",
    "# Run K-means clustering with Euclidean distance\n",
    "euclidean_centroids, euclidean_clusters = k_means_clustering(X, k, euclidean_distance)\n",
    "\n",
    "# Calculate SSE for Euclidean-K-means\n",
    "sse_euclidean = calculate_sse(euclidean_centroids, euclidean_clusters, euclidean_distance)\n"
   ]
  },
  {
   "cell_type": "code",
   "execution_count": 12,
   "id": "9a62a699",
   "metadata": {},
   "outputs": [
    {
     "data": {
      "text/plain": [
       "25514035741.308636"
      ]
     },
     "execution_count": 12,
     "metadata": {},
     "output_type": "execute_result"
    }
   ],
   "source": [
    "sse_euclidean"
   ]
  },
  {
   "cell_type": "code",
   "execution_count": 13,
   "id": "8f867b65",
   "metadata": {},
   "outputs": [],
   "source": [
    "# Run K-means clustering with Cosine similarity\n",
    "cosine_centroids, cosine_clusters = k_means_clustering(X, k, cosine_similarity_func)\n",
    "\n",
    "# Calculate SSE for Cosine-K-means\n",
    "sse_cosine = calculate_sse(cosine_centroids, cosine_clusters, cosine_similarity_func)\n"
   ]
  },
  {
   "cell_type": "code",
   "execution_count": 14,
   "id": "18c558dc",
   "metadata": {},
   "outputs": [
    {
     "data": {
      "text/plain": [
       "693.5533720434772"
      ]
     },
     "execution_count": 14,
     "metadata": {},
     "output_type": "execute_result"
    }
   ],
   "source": [
    "sse_cosine"
   ]
  },
  {
   "cell_type": "code",
   "execution_count": 15,
   "id": "75aed36e",
   "metadata": {},
   "outputs": [],
   "source": [
    "# Run K-means clustering with Jaccard similarity (for binary data)\n",
    "# Note: Jaccard similarity is commonly used for binary data\n",
    "jaccard_centroids, jaccard_clusters = k_means_clustering(X, k, jaccard_similarity)\n",
    "\n",
    "# Calculate SSE for Jaccard-K-means\n",
    "sse_jaccard = calculate_sse(jaccard_centroids, jaccard_clusters, jaccard_similarity)\n"
   ]
  },
  {
   "cell_type": "code",
   "execution_count": 16,
   "id": "3a9fa818",
   "metadata": {},
   "outputs": [
    {
     "name": "stdout",
     "output_type": "stream",
     "text": [
      "SSE for Euclidean-K-means: 25514035741.308636\n",
      "SSE for Cosine-K-means: 693.5533720434772\n",
      "SSE for Jaccard-K-means: 9971.627450012928\n",
      "Cosine-K-means performs better.\n"
     ]
    }
   ],
   "source": [
    "# Compare the SSEs of Euclidean-K-means, Cosine-K-means, and Jaccard-K-means\n",
    "print(f\"SSE for Euclidean-K-means: {sse_euclidean}\")\n",
    "print(f\"SSE for Cosine-K-means: {sse_cosine}\")\n",
    "print(f\"SSE for Jaccard-K-means: {sse_jaccard}\")\n",
    "\n",
    "# Determine which method is better based on the SSE values\n",
    "if sse_euclidean < sse_cosine and sse_euclidean < sse_jaccard:\n",
    "    print(\"Euclidean-K-means performs better.\")\n",
    "elif sse_cosine < sse_euclidean and sse_cosine < sse_jaccard:\n",
    "    print(\"Cosine-K-means performs better.\")\n",
    "else:\n",
    "    print(\"Jaccard-K-means performs better.\")"
   ]
  },
  {
   "cell_type": "code",
   "execution_count": 18,
   "id": "28bbae9c",
   "metadata": {},
   "outputs": [
    {
     "name": "stdout",
     "output_type": "stream",
     "text": [
      "Accuracy for Euclidean-K-means: 0.10321032103210322\n",
      "Accuracy for Cosine-K-means: 0.10321032103210322\n",
      "Accuracy for Jaccard-K-means: 0.010321032103210321\n",
      "The method with the best accuracy is: Euclidean-K-means\n"
     ]
    }
   ],
   "source": [
    "from collections import Counter\n",
    "\n",
    "# Function to assign cluster labels using majority voting\n",
    "def assign_cluster_labels(clusters, true_labels):\n",
    "    cluster_labels = {}\n",
    "    for cluster_idx, cluster_points in clusters.items():\n",
    "        # Convert NumPy arrays to lists for indexing\n",
    "        cluster_points = list(cluster_points)\n",
    "        true_labels_cluster = true_labels[cluster_points]\n",
    "        \n",
    "        # Perform majority voting manually\n",
    "        label_counts = {}\n",
    "        for label in np.unique(true_labels_cluster):\n",
    "            label_counts[label] = np.sum(true_labels_cluster == label)\n",
    "        \n",
    "        # Check if label_counts is empty\n",
    "        if label_counts:\n",
    "            # Find the label with the highest count\n",
    "            most_common_label = max(label_counts, key=label_counts.get)\n",
    "        else:\n",
    "            # If label_counts is empty, assign a default label or handle it as needed\n",
    "            most_common_label = -1  # Assign a default label\n",
    "        \n",
    "        # Assign the most frequent label to the cluster\n",
    "        cluster_labels[cluster_idx] = most_common_label\n",
    "    \n",
    "    return cluster_labels\n",
    "\n",
    "def calculate_accuracy(cluster_labels, true_labels):\n",
    "    predicted_labels = np.array([cluster_labels[cluster_idx] for cluster_idx in sorted(cluster_labels)])\n",
    "    \n",
    "    accuracy = np.mean(predicted_labels == true_labels)\n",
    "    return accuracy\n",
    "\n",
    "true_labels = np.array(y)  \n",
    "\n",
    "# Assign cluster labels using majority voting for each method\n",
    "euclidean_cluster_labels = assign_cluster_labels(euclidean_clusters, true_labels)\n",
    "cosine_cluster_labels = assign_cluster_labels(cosine_clusters, true_labels)\n",
    "jaccard_cluster_labels = assign_cluster_labels(jaccard_clusters, true_labels)\n",
    "\n",
    "# Calculate predictive accuracies for each method\n",
    "accuracy_euclidean = calculate_accuracy(euclidean_cluster_labels, true_labels)\n",
    "accuracy_cosine = calculate_accuracy(cosine_cluster_labels, true_labels)\n",
    "accuracy_jaccard = calculate_accuracy(jaccard_cluster_labels, true_labels)\n",
    "\n",
    "# Compare the accuracies of each method\n",
    "print(f\"Accuracy for Euclidean-K-means: {accuracy_euclidean}\")\n",
    "print(f\"Accuracy for Cosine-K-means: {accuracy_cosine}\")\n",
    "print(f\"Accuracy for Jaccard-K-means: {accuracy_jaccard}\")\n",
    "\n",
    "# Determine which method has a better accuracy\n",
    "best_method = max((accuracy_euclidean, \"Euclidean-K-means\"),\n",
    "                  (accuracy_cosine, \"Cosine-K-means\"),\n",
    "                  (accuracy_jaccard, \"Jaccard-K-means\"))\n",
    "print(f\"The method with the best accuracy is: {best_method[1]}\")"
   ]
  },
  {
   "cell_type": "code",
   "execution_count": 19,
   "id": "86624b12",
   "metadata": {},
   "outputs": [],
   "source": [
    "def k_means_clustering(data, k, distance_metric,max_iters=500):\n",
    "    centroids_idx = np.random.choice(len(data), k, replace=False)\n",
    "    centroids = data.iloc[centroids_idx].reset_index(drop=True)\n",
    "    \n",
    "    prev_centroids = None\n",
    "    prev_sse = None\n",
    "    \n",
    "    for iteration in range(max_iters):\n",
    "        centroids_idx = np.random.choice(len(data), k, replace=False)\n",
    "        centroids = data.iloc[centroids_idx]\n",
    "        for _ in range(max_iters):\n",
    "            clusters = {i: [] for i in range(k)}\n",
    "            for i in range(len(data)):\n",
    "                point = data.iloc[i]\n",
    "                min_distance=sys.maxsize\n",
    "                closest_centroid=0\n",
    "                centroids.index = range(10)\n",
    "            \n",
    "                for i,centroid in centroids.iterrows():\n",
    "                    distance=distance_metric(point, centroid)\n",
    "                    if(distance<min_distance):\n",
    "                        closest_centroid=i\n",
    "                        min_distance=distance\n",
    "                clusters[closest_centroid].append(point)\n",
    "\n",
    "        # Update centroids\n",
    "        new_centroids_data = []\n",
    "        for j in range(k):\n",
    "            if clusters[j]:\n",
    "                new_centroid = np.mean(clusters[j], axis=0)\n",
    "                new_centroids_data.append(new_centroid)\n",
    "            else:\n",
    "                new_centroids_data.append(centroids.loc[j].values)\n",
    "        \n",
    "        centroids = pd.DataFrame(new_centroids_data, columns=data.columns)\n",
    "\n",
    "        \n",
    "        # Calculate SSE for the current iteration\n",
    "        sse = sum(np.linalg.norm(np.array(centroids.iloc[i]) - np.array(clusters[i]), axis=1).sum() for i in range(k))\n",
    "        \n",
    "        if((prev_centroids is not None and (centroids.values == prev_centroids.values).all()) or (prev_sse is not None and sse > prev_sse) or (iteration == max_iters - 1)): \n",
    "                break\n",
    "       \n",
    "        \n",
    "        # Update for next iteration\n",
    "        prev_centroids = centroids.copy()\n",
    "        prev_sse = sse\n",
    "        \n",
    "    return iteration + 1\n"
   ]
  },
  {
   "cell_type": "code",
   "execution_count": null,
   "id": "32c95ee7",
   "metadata": {},
   "outputs": [],
   "source": [
    "iterations_euclidean = k_means_clustering(X, k, euclidean_distance)"
   ]
  },
  {
   "cell_type": "code",
   "execution_count": null,
   "id": "89f23ac1",
   "metadata": {},
   "outputs": [],
   "source": [
    "iterations_cosine = k_means_clustering(X, k, cosine_similarity_func)"
   ]
  },
  {
   "cell_type": "code",
   "execution_count": null,
   "id": "00630773",
   "metadata": {},
   "outputs": [],
   "source": [
    "iterations_jaccard = k_means_clustering(X, k, jaccard_similarity)"
   ]
  },
  {
   "cell_type": "code",
   "execution_count": null,
   "id": "5f727b33",
   "metadata": {},
   "outputs": [],
   "source": [
    "print(f\"Euclidean K-means took {iterations_euclidean} iterations to converge.\")\n",
    "print(f\"Cosine K-means took {iterations_cosine} iterations to converge.\")\n",
    "print(f\"Jaccard K-means took {iterations_jaccard} iterations to converge.\")"
   ]
  },
  {
   "cell_type": "code",
   "execution_count": null,
   "id": "8b6a7755",
   "metadata": {},
   "outputs": [],
   "source": [
    "def k_means_clustering(data, k, stopcriteria, distance_metric,max_iters=500):\n",
    "    centroids_idx = np.random.choice(len(data), k, replace=False)\n",
    "    centroids = data.iloc[centroids_idx].reset_index(drop=True)\n",
    "    \n",
    "    prev_centroids = None\n",
    "    prev_sse = None\n",
    "    \n",
    "    for iteration in range(max_iters):\n",
    "        centroids_idx = np.random.choice(len(data), k, replace=False)\n",
    "        centroids = data.iloc[centroids_idx]\n",
    "        for _ in range(max_iters):\n",
    "            clusters = {i: [] for i in range(k)}\n",
    "            for i in range(len(data)):\n",
    "                point = data.iloc[i]\n",
    "                min_distance=sys.maxsize\n",
    "                closest_centroid=0\n",
    "                centroids.index = range(10)\n",
    "            \n",
    "                for i,centroid in centroids.iterrows():\n",
    "                    distance=distance_metric(point, centroid)\n",
    "                    if(distance<min_distance):\n",
    "                        closest_centroid=i\n",
    "                        min_distance=distance\n",
    "                clusters[closest_centroid].append(point)\n",
    "\n",
    "        # Update centroids\n",
    "        new_centroids_data = []\n",
    "        for j in range(k):\n",
    "            if clusters[j]:\n",
    "                new_centroid = np.mean(clusters[j], axis=0)\n",
    "                new_centroids_data.append(new_centroid)\n",
    "            else:\n",
    "                new_centroids_data.append(centroids.loc[j].values)\n",
    "        \n",
    "        centroids = pd.DataFrame(new_centroids_data, columns=data.columns)\n",
    "\n",
    "        \n",
    "        # Calculate SSE for the current iteration\n",
    "        sse = sum(np.linalg.norm(np.array(centroids.iloc[i]) - np.array(clusters[i]), axis=1).sum() for i in range(k))\n",
    "        \n",
    "        if stopcriteria == 'centroid_change':\n",
    "             if (prev_centroids is not None and (centroids.values == prev_centroids.values).all()):\n",
    "                break\n",
    "        elif stopcriteria == 'sse_increase':\n",
    "             if (prev_sse is not None and sse > prev_sse):\n",
    "                break\n",
    "        elif stopcriteria == 'max_iterations':\n",
    "             if iteration == max_iters - 1:\n",
    "                break\n",
    "       \n",
    "        \n",
    "        # Update for next iteration\n",
    "        prev_centroids = centroids.copy()\n",
    "        prev_sse = sse\n",
    "        \n",
    "    return centroids,clusters\n"
   ]
  },
  {
   "cell_type": "code",
   "execution_count": null,
   "id": "33c59637",
   "metadata": {},
   "outputs": [],
   "source": [
    "cc_centroids_euc,cc_clusters_euc = k_means_clustering(X, k, 'centroid_change',euclidean_distance)"
   ]
  },
  {
   "cell_type": "code",
   "execution_count": null,
   "id": "60593829",
   "metadata": {},
   "outputs": [],
   "source": [
    "sse_centroids_euc,sse_clusters_euc = k_means_clustering(X, k, 'sse_increase',euclidean_distance)\n"
   ]
  },
  {
   "cell_type": "code",
   "execution_count": null,
   "id": "f5fe3bab",
   "metadata": {},
   "outputs": [],
   "source": [
    "maxiter_centroids_euc,maxiter_clusters_euc = k_means_clustering(X, k, 'max_iterations',euclidean_distance)\n"
   ]
  },
  {
   "cell_type": "code",
   "execution_count": null,
   "id": "5200b45c",
   "metadata": {},
   "outputs": [],
   "source": [
    "cc_centroids_cosine,cc_clusters_cosine = k_means_clustering(X, k, 'centroid_change',cosine_similarity_func)\n"
   ]
  },
  {
   "cell_type": "code",
   "execution_count": null,
   "id": "62fa1ee4",
   "metadata": {},
   "outputs": [],
   "source": [
    "sse_centroids_cosine,sse_clusters_cosine = k_means_clustering(X, k, 'sse_increase',cosine_similarity_func)\n"
   ]
  },
  {
   "cell_type": "code",
   "execution_count": null,
   "id": "95ddc9fa",
   "metadata": {},
   "outputs": [],
   "source": [
    "maxiter_centroids_cosine,maxiter_clusters_cosine = k_means_clustering(X, k, 'max_iterations',cosine_similarity_func)\n"
   ]
  },
  {
   "cell_type": "code",
   "execution_count": null,
   "id": "de8b21ca",
   "metadata": {},
   "outputs": [],
   "source": [
    "cc_centroids_jac,cc_clusters_jac = k_means_clustering(X, k, 'centroid_change',jacard_similarity)\n"
   ]
  },
  {
   "cell_type": "code",
   "execution_count": null,
   "id": "19012132",
   "metadata": {},
   "outputs": [],
   "source": [
    "sse_centroids_jac,sse_clusters_jac = k_means_clustering(X, k, 'sse_increase',jacard_similarity)\n"
   ]
  },
  {
   "cell_type": "code",
   "execution_count": null,
   "id": "fa5b3161",
   "metadata": {},
   "outputs": [],
   "source": [
    "maxiter_centroids_jac,maxiter_clusters_jac = k_means_clustering(X, k, 'max_iterations',jacard_similarity)\n"
   ]
  },
  {
   "cell_type": "code",
   "execution_count": null,
   "id": "895ebd74",
   "metadata": {},
   "outputs": [],
   "source": [
    "def calculate_sse(centroids, clusters, distance_metric):\n",
    "    sse = 0\n",
    "    for i in range(len(centroids)):\n",
    "        cluster_points = clusters[i]\n",
    "        centroid = centroids.iloc[i]\n",
    "        sse += np.sum([distance_metric(point, centroid) ** 2 for point in cluster_points])\n",
    "    return sse"
   ]
  },
  {
   "cell_type": "code",
   "execution_count": null,
   "id": "9e843e60",
   "metadata": {},
   "outputs": [],
   "source": [
    "print(calculate_sse(cc_centroids_euc,cc_clusters_euc,euclidean_distance))"
   ]
  },
  {
   "cell_type": "code",
   "execution_count": null,
   "id": "ce5a512f",
   "metadata": {},
   "outputs": [],
   "source": [
    "print(calculate_sse(cc_centroids_cosine,cc_clusters_cosine,cosine_similarity_func))"
   ]
  },
  {
   "cell_type": "code",
   "execution_count": null,
   "id": "fa7daae3",
   "metadata": {},
   "outputs": [],
   "source": [
    "print(calculate_sse(cc_centroids_jac,cc_clusters_jac,jaccard_similarity))"
   ]
  },
  {
   "cell_type": "code",
   "execution_count": null,
   "id": "ec668227",
   "metadata": {},
   "outputs": [],
   "source": [
    "print(calculate_sse(sse_centroids_euc,sse_clusters_euc,euclidean_distance))\n",
    "print(calculate_sse(sse_centroids_cosine,sse_clusters_cosine,cosine_similarity_func))\n",
    "print(calculate_sse(sse_centroids_jaccard,sse_clusters_jaccard,jaccard_similarity))"
   ]
  },
  {
   "cell_type": "code",
   "execution_count": null,
   "id": "a4754dd1",
   "metadata": {},
   "outputs": [],
   "source": [
    "print(calculate_sse(maxiter_centroids_euc,maxiter_clusters_euc,euclidean_distance))\n",
    "print(calculate_sse(maxiter_centroids_cosine,maxiter_clusters_cosine,cosine_similarity_func))\n",
    "print(calculate_sse(maxiter_centroids_jaccard,maxiter_clusters_jaccard,jaccard_similarity))"
   ]
  }
 ],
 "metadata": {
  "kernelspec": {
   "display_name": "Python 3 (ipykernel)",
   "language": "python",
   "name": "python3"
  },
  "language_info": {
   "codemirror_mode": {
    "name": "ipython",
    "version": 3
   },
   "file_extension": ".py",
   "mimetype": "text/x-python",
   "name": "python",
   "nbconvert_exporter": "python",
   "pygments_lexer": "ipython3",
   "version": "3.10.13"
  }
 },
 "nbformat": 4,
 "nbformat_minor": 5
}
